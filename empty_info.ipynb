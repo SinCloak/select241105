{
 "cells": [
  {
   "cell_type": "markdown",
   "id": "82578b591b17f575",
   "metadata": {},
   "source": [
    "# 1"
   ]
  },
  {
   "cell_type": "markdown",
   "id": "7d7c249cd917c454",
   "metadata": {},
   "source": [
    "|col_name|empty_num|\n",
    "|--------|---------|\n",
    "|医疗机构名称|0|\n",
    "|负责人|1616|\n",
    "|法人|1801|\n",
    "|医疗机构性质|4107|\n",
    "|医疗机构等级|65|\n",
    "|医疗机构类型|4107|\n",
    "|是否医保定点|4107|\n",
    "|地址|26|\n",
    "|省份|0|\n",
    "|城市|1011|\n",
    "|地区|542|\n",
    "|执业许可证有效期|1593|\n",
    "|审批机关|1588|\n",
    "|登记号|1594|\n",
    "|医疗机构等级(子类)|4107|\n",
    "|诊疗科目|1593|\n",
    "|经济类型编码|3334|\n",
    "|卫生机构组织类别代码-大类|3334|"
   ]
  },
  {
   "cell_type": "markdown",
   "id": "e39716d9ff591c84",
   "metadata": {},
   "source": [
    "# 2"
   ]
  },
  {
   "cell_type": "markdown",
   "id": "7689157261a86571",
   "metadata": {},
   "source": [
    "|col_name|empty_num|\n",
    "|--------|---------|\n",
    "|注册证编号|0|\n",
    "|注册人名称|0|\n",
    "|注册人社会信用代码|236|\n",
    "|注册人住所|19|\n",
    "|生产地址|2|\n",
    "|产品名称|0|\n",
    "|管理类别|0|\n",
    "|型号规格|14|\n",
    "|结构及组成/主要组成成分|26|\n",
    "|适用范围/预期用途|11|\n",
    "|产品储存条件及有效期|2161|\n",
    "|附件|717|\n",
    "|其他内容|1064|\n",
    "|备注|2918|\n",
    "|审批部门|45|\n",
    "|批准日期|0|\n",
    "|有效期至|5|\n",
    "|变更日期|5000|\n",
    "|变更情况|2875|"
   ]
  },
  {
   "cell_type": "markdown",
   "id": "81e43f53e276e2ab",
   "metadata": {},
   "source": [
    "# 3"
   ]
  },
  {
   "cell_type": "markdown",
   "id": "d3f511c3af54c4d2",
   "metadata": {},
   "source": [
    "|col_name|empty_num|\n",
    "|--------|---------|\n",
    "|注册证编号|0|\n",
    "|注册人名称|5000|\n",
    "|注册人住所|0|\n",
    "|生产地址|0|\n",
    "|代理人名称|0|\n",
    "|代理人社会信用代码|169|\n",
    "|代理人住所|0|\n",
    "|产品名称|5000|\n",
    "|管理类别|0|\n",
    "|型号规格|2|\n",
    "|结构及组成/主要组成成分|1|\n",
    "|适用范围/预期用途|2|\n",
    "|产品储存条件及有效期|0|\n",
    "|附件|118|\n",
    "|其他内容|0|\n",
    "|备注|1652|\n",
    "|审批部门|0|\n",
    "|批准日期|0|\n",
    "|有效期至|0|\n",
    "|变更日期|5000|\n",
    "|变更情况|1294|"
   ]
  },
  {
   "cell_type": "markdown",
   "id": "b17434b0ec664c6",
   "metadata": {},
   "source": [
    "# 4"
   ]
  },
  {
   "cell_type": "markdown",
   "id": "b34353409c8d34e5",
   "metadata": {},
   "source": [
    "|col_name|empty_num|\n",
    "|--------|---------|\n",
    "|备案号|0|\n",
    "|备案人名称|0|\n",
    "|备案人社会信用代码|4997|\n",
    "|备案人注册地址|0|\n",
    "|生产地址|0|\n",
    "|产品名称/产品分类名称|0|\n",
    "|型号规格/包装规格|0|\n",
    "|产品描述/主要组成成分|4997|\n",
    "|预期用途|0|\n",
    "|产品存储及有效期|1663|\n",
    "|备注|3733|\n",
    "|备案单位|0|\n",
    "|备案日期|0|\n",
    "|变更日期|5000|\n",
    "|变更情况|4999|"
   ]
  },
  {
   "cell_type": "markdown",
   "id": "ac9ab07a4fbd5d27",
   "metadata": {},
   "source": [
    "# 5"
   ]
  },
  {
   "cell_type": "markdown",
   "id": "429f53f33944da91",
   "metadata": {},
   "source": [
    "|col_name|empty_num|\n",
    "|--------|---------|\n",
    "|备案号|0|\n",
    "|备案人名称|0|\n",
    "|备案人注册地址|0|\n",
    "|生产地址|0|\n",
    "|代理人|1|\n",
    "|代理人社会信用代码|4991|\n",
    "|代理人注册地址|1|\n",
    "|产品名称/产品分类名称|5000|\n",
    "|型号规格/包装规格|4|\n",
    "|产品描述/主要组成成分|4991|\n",
    "|预期用途|0|\n",
    "|产品存储及有效期|11|\n",
    "|备注|3773|\n",
    "|备案单位|0|\n",
    "|备案日期|0|\n",
    "|变更日期|5000|\n",
    "|变更情况|4992|"
   ]
  },
  {
   "cell_type": "markdown",
   "id": "f34a29a532c6bcfa",
   "metadata": {},
   "source": [
    "# 6"
   ]
  },
  {
   "cell_type": "markdown",
   "id": "ab6c7b64701885bb",
   "metadata": {},
   "source": [
    "|col_name|empty_num|\n",
    "|--------|---------|\n",
    "|许可证编号|2|\n",
    "|企业ENTID|2778|\n",
    "|企业名称|0|\n",
    "|法定代表人|0|\n",
    "|企业负责人|6|\n",
    "|住所|0|\n",
    "|生产地址|3|\n",
    "|生产范围|7|\n",
    "|发证部门|8|\n",
    "|发证日期|51|\n",
    "|有效期限|4627|"
   ]
  },
  {
   "cell_type": "markdown",
   "id": "a555a99fd27cae3",
   "metadata": {},
   "source": [
    "# 7"
   ]
  },
  {
   "cell_type": "markdown",
   "id": "122a38f3a52866e6",
   "metadata": {},
   "source": [
    "|col_name|empty_num|\n",
    "|--------|---------|\n",
    "|许可证编号|0|\n",
    "|企业ENTID|10000|\n",
    "|企业名称|0|\n",
    "|法定代表人|128|\n",
    "|企业负责人|181|\n",
    "|住所|1930|\n",
    "|经营场所|1934|\n",
    "|经营方式|2401|\n",
    "|经营范围|109|\n",
    "|库房地址|797|\n",
    "|发证部门|93|\n",
    "|发证日期|162|\n",
    "|有效期限|3139|"
   ]
  },
  {
   "cell_type": "markdown",
   "id": "9edba61203d96f80",
   "metadata": {},
   "source": [
    "# 8"
   ]
  },
  {
   "cell_type": "markdown",
   "id": "fa29f572cbf65e36",
   "metadata": {},
   "source": [
    "|col_name|empty_num|\n",
    "|--------|---------|\n",
    "|备案凭证编号|0|\n",
    "|企业ENTID|453|\n",
    "|企业名称|0|\n",
    "|法定代表人|4|\n",
    "|企业负责人|6|\n",
    "|住所|4|\n",
    "|生产地址|2|\n",
    "|生产范围|6|\n",
    "|备案部门|4|\n",
    "|备案日期|35|"
   ]
  },
  {
   "cell_type": "markdown",
   "id": "fd5252f5ed86cf80",
   "metadata": {},
   "source": [
    "# 9"
   ]
  },
  {
   "cell_type": "markdown",
   "id": "d8a4037e350878c3",
   "metadata": {},
   "source": [
    "|col_name|empty_num|\n",
    "|--------|---------|\n",
    "|备案凭证编号|0|\n",
    "|企业ENTID|9700|\n",
    "|企业名称|0|\n",
    "|法定代表人|220|\n",
    "|企业负责人|185|\n",
    "|住所|1795|\n",
    "|经营场所|1797|\n",
    "|经营方式|2207|\n",
    "|经营范围|123|\n",
    "|库房地址|754|\n",
    "|备案部门|145|\n",
    "|备案日期|194|"
   ]
  },
  {
   "cell_type": "markdown",
   "id": "226c6a13661da592",
   "metadata": {},
   "source": [
    "# 10"
   ]
  },
  {
   "cell_type": "markdown",
   "id": "922a8e9796efca05",
   "metadata": {},
   "source": [
    "|col_name|empty_num|\n",
    "|--------|---------|\n",
    "|批准文号|0|\n",
    "|产品名称|0|\n",
    "|英文名称|698|\n",
    "|商品名|4497|\n",
    "|剂型|34|\n",
    "|规格|42|\n",
    "|上市许可持有人|2946|\n",
    "|上市许可持有人地址|2986|\n",
    "|批准日期|0|\n",
    "|产品类别|1|\n",
    "|原批准文号|3115|\n",
    "|药品本位码|480|\n",
    "|药品本位码备注|4921|\n",
    "|商品名（英文）|5000|\n",
    "|剂型（英文）|5000|\n",
    "|规格（英文）|5000|\n",
    "|上市许可持有人（英文）|5000|\n",
    "|上市许可持有人地址（英文）|5000|"
   ]
  },
  {
   "cell_type": "markdown",
   "id": "627dd3b4aacceef6",
   "metadata": {},
   "source": [
    "# 11"
   ]
  },
  {
   "cell_type": "markdown",
   "id": "1e6ad64cded80d70",
   "metadata": {},
   "source": [
    "|col_name|empty_num|\n",
    "|--------|---------|\n",
    "|批准文号|0|\n",
    "|注册证号|0|\n",
    "|生产企业（中文）|128|\n",
    "|生产企业（英文）|5000|\n",
    "|生产地址（中文）|134|\n",
    "|生产地址（英文）|5000|\n",
    "|生产企业国家/地区（中文）|5000|\n",
    "|生产企业国家/地区（英文）|5000|"
   ]
  },
  {
   "cell_type": "markdown",
   "id": "48d351a2234aa3f6",
   "metadata": {},
   "source": [
    "# 12"
   ]
  },
  {
   "cell_type": "markdown",
   "id": "4e55357d5f21ad68",
   "metadata": {},
   "source": [
    "|col_name|empty_num|\n",
    "|--------|---------|\n",
    "|注册证号|0|\n",
    "|原注册证号|3132|\n",
    "|注册证号备注|5000|\n",
    "|分包装批准文号|4998|\n",
    "|上市许可持有人中文名称|4983|\n",
    "|上市许可持有人英文名称|4930|\n",
    "|上市许可持有人地址（中文）|5000|\n",
    "|上市许可持有人地址（英文）|4930|\n",
    "|公司名称（中文）|4489|\n",
    "|公司名称（英文）|131|\n",
    "|地址（中文）|4918|\n",
    "|地址（英文）|146|\n",
    "|国家/地区（中文）|155|\n",
    "|国家/地区（英文）|168|\n",
    "|产品名称（中文）|23|\n",
    "|产品名称（英文）|34|\n",
    "|商品名（中文）|1447|\n",
    "|商品名（英文）|1373|\n",
    "|剂型（中文）|10|\n",
    "|规格（中文）|234|\n",
    "|包装规格（中文）|17|\n",
    "|发证日期|1|\n",
    "|有效期截止日|7|\n",
    "|分包装企业名称|4600|\n",
    "|分包装企业地址|4840|\n",
    "|分包装文号批准日期|4999|\n",
    "|分包装文号有效期截止日|5000|\n",
    "|产品类别|0|\n",
    "|药品本位码|3069|\n",
    "|药品本位码备注|4990|\n",
    "|国家/地区|5000|\n",
    "|批准文号有效期|7|\n",
    "|包装规格（英文）|5000|\n",
    "|进口检验标准（中文）|5000|\n",
    "|进口检验标准（英文）|5000|"
   ]
  },
  {
   "cell_type": "markdown",
   "id": "7b285ed0cd9e139d",
   "metadata": {},
   "source": [
    "# 13"
   ]
  },
  {
   "cell_type": "markdown",
   "id": "c8df8aa139d41d2a",
   "metadata": {},
   "source": [
    "|col_name|empty_num|\n",
    "|--------|---------|\n",
    "|批准文号|0|\n",
    "|注册证号|0|\n",
    "|生产企业（中文）|4505|\n",
    "|生产企业（英文）|69|\n",
    "|生产地址（中文）|4896|\n",
    "|生产地址（英文）|81|\n",
    "|生产企业国家/地区（中文）|80|\n",
    "|生产企业国家/地区（英文）|84|"
   ]
  },
  {
   "cell_type": "markdown",
   "id": "aef8ee5d22d6eaa4",
   "metadata": {},
   "source": [
    "# 14"
   ]
  },
  {
   "cell_type": "markdown",
   "id": "ea8934f217b68109",
   "metadata": {},
   "source": [
    "|col_name|empty_num|\n",
    "|--------|---------|\n",
    "|生产许可证编号|0|\n",
    "|企业entid|1672|\n",
    "|企业名称|0|\n",
    "|社会信用代码/组织机构代码|0|\n",
    "|分类码|1|\n",
    "|省份|0|\n",
    "|注册地址|9970|\n",
    "|生产地址|92|\n",
    "|法定代表人|0|\n",
    "|企业负责人|0|\n",
    "|质量负责人|5|\n",
    "|生产品种|9970|\n",
    "|生产范围|102|\n",
    "|发证机关|4|\n",
    "|签发人|8|\n",
    "|发证日期|0|\n",
    "|有效期限|9970|\n",
    "|日常监管机构|7|\n",
    "|日常监管人员|9214|\n",
    "|监督举报电话|9970|\n",
    "|备注|10000|\n",
    "|原许可证编号|10000|\n",
    "|电话|9970|\n",
    "|邮编|9970|\n",
    "|企业类型|9970|"
   ]
  },
  {
   "cell_type": "markdown",
   "id": "3976fbf40ce6fa41",
   "metadata": {},
   "source": [
    "# 15"
   ]
  },
  {
   "cell_type": "markdown",
   "id": "3785e95714302dae",
   "metadata": {},
   "source": [
    "|col_name|empty_num|\n",
    "|--------|---------|\n",
    "|经营许可证编号|0|\n",
    "|许可证状态|125|\n",
    "|企业entid|7895|\n",
    "|企业名称|0|\n",
    "|统一社会信用代码|7896|\n",
    "|注册地址|86|\n",
    "|法定代表人|1252|\n",
    "|企业负责人|270|\n",
    "|质量负责人|358|\n",
    "|仓库地址|3808|\n",
    "|经营方式|744|\n",
    "|经营范围|504|\n",
    "|发证机构|324|\n",
    "|发证日期|218|\n",
    "|证书有效期|2|\n",
    "|备注|9192|\n",
    "|公司ID|9192|\n",
    "|注册号|7962|"
   ]
  },
  {
   "cell_type": "markdown",
   "id": "c9a45c7bbf8eb338",
   "metadata": {},
   "source": [
    "# 16"
   ]
  },
  {
   "cell_type": "markdown",
   "id": "e0451365e5913b89",
   "metadata": {},
   "source": [
    "|col_name|empty_num|\n",
    "|--------|---------|\n",
    "|证书编号|1|\n",
    "|企业entid|1969|\n",
    "|企业名称|0|\n",
    "|地址|867|\n",
    "|省市|115|\n",
    "|认证范围|1|\n",
    "|发证日期|74|\n",
    "|有效期截止日|49|\n",
    "|批准延续日期|8281|\n",
    "|有效期延续至|8272|\n",
    "|批准延续的认证范围|8332|\n",
    "|认证GMP版本|5500|\n",
    "|状态|9072|\n",
    "|备注|9742|"
   ]
  },
  {
   "cell_type": "markdown",
   "id": "fe9e87524b24ce66",
   "metadata": {},
   "source": [
    "# 17"
   ]
  },
  {
   "cell_type": "markdown",
   "id": "d37a1d543c55ce86",
   "metadata": {},
   "source": [
    "|col_name|empty_num|\n",
    "|--------|---------|\n",
    "|证书编号|1|\n",
    "|企业entid|7754|\n",
    "|企业名称|0|\n",
    "|省市|1440|\n",
    "|经营地址|995|\n",
    "|认证范围|372|\n",
    "|发证日期|230|\n",
    "|证书有效期|0|\n",
    "|发证机构|6438|\n",
    "|备注|10000|"
   ]
  },
  {
   "cell_type": "markdown",
   "id": "fa8f005dcb5b0fc8",
   "metadata": {},
   "source": [
    "# 18"
   ]
  },
  {
   "cell_type": "markdown",
   "id": "6d2847bc1626f76c",
   "metadata": {},
   "source": [
    "|col_name|empty_num|\n",
    "|--------|---------|\n",
    "|通告（公告）号|28|\n",
    "|产品名称|0|\n",
    "|标示生产企业名称(来源、产地)|1|\n",
    "|规格（中文）|12|\n",
    "|生产批号|764|\n",
    "|检品来源|0|\n",
    "|抽检类别|0|\n",
    "|检验结果|0|\n",
    "|不合格项目|1|\n",
    "|检验依据|0|\n",
    "|检验机构名称|0|\n",
    "|备注|5406|"
   ]
  },
  {
   "cell_type": "markdown",
   "id": "272c035d0f8dea79",
   "metadata": {},
   "source": [
    "# 19"
   ]
  },
  {
   "cell_type": "markdown",
   "id": "bb90b5f3bd018e68",
   "metadata": {},
   "source": [
    "|col_name|empty_num|\n",
    "|--------|---------|\n",
    "|保护品种编号|0|\n",
    "|产品名称|0|\n",
    "|公告号|0|\n",
    "|药品批准文号|0|\n",
    "|保护级别|0|\n",
    "|保护期限|0|\n",
    "|保护起始日|0|\n",
    "|保护终止日|0|\n",
    "|生产企业|0|\n",
    "|剂型|1|\n",
    "|规格|0|"
   ]
  },
  {
   "cell_type": "markdown",
   "id": "2889a1ff01155f7b",
   "metadata": {},
   "source": [
    "# 20"
   ]
  },
  {
   "cell_type": "markdown",
   "id": "58ef191fe0ab9748",
   "metadata": {},
   "source": [
    "|col_name|empty_num|\n",
    "|--------|---------|\n",
    "|保护品种编号|0|\n",
    "|产品名称|0|\n",
    "|公告号|0|\n",
    "|药品批准文号|0|\n",
    "|保护级别|0|\n",
    "|保护期限|0|\n",
    "|保护起始日|0|\n",
    "|保护终止日|0|\n",
    "|生产企业|0|\n",
    "|剂型|1|\n",
    "|规格|0|"
   ]
  },
  {
   "cell_type": "markdown",
   "id": "f901d606a4ad0668",
   "metadata": {},
   "source": [
    "# 21"
   ]
  },
  {
   "cell_type": "markdown",
   "id": "30b700fd83de533f",
   "metadata": {},
   "source": [
    "|col_name|empty_num|\n",
    "|--------|---------|\n",
    "|证明编号|0|\n",
    "|Certificate No|78|\n",
    "|证明类别|8781|\n",
    "|Certificate Classification|8781|\n",
    "|产品名称|0|\n",
    "|Name of Product|187|\n",
    "|剂型|12|\n",
    "|Dosages Form of the Product|331|\n",
    "|规格|51|\n",
    "|Strength|371|\n",
    "|商品名|85|\n",
    "|Trade Name|470|\n",
    "|产品批准文号|0|\n",
    "|Number of product license（DMF number）|8|\n",
    "|批准（备案）时间|16|\n",
    "|Date of Issue|25|\n",
    "|该药品规格是否获得许可在中国市场上使用|0|\n",
    "|Is this product strength licensed to be placed on the market for use in China|0|\n",
    "|药品生产企业或者药品上市许可持有人名称|0|\n",
    "|Name of Manufacturer or Product-license Holder|157|\n",
    "|社会信用代码(组织机构代码)|13|\n",
    "|Social Credit Code|331|\n",
    "|药品生产企业或者药品上市许可持有人地址|4|\n",
    "|Address of Manufacturer or Product-license Holder|161|\n",
    "|如果药品上市许可持有人不是生产者，药品实际生产者名称是|3766|\n",
    "|If the license holder is not the manufacturer, the name of the manufacturer producing the dosage form is|3775|\n",
    "|如果药品上市许可持有人不是生产者，药品实际生产者地址是|3766|\n",
    "|If the license holder is not the manufacturer, the address of the manufacturer producing the dosage form is|3774|\n",
    "|生产设备和操作是否中国药品生产质量管理规范的要求|0|\n",
    "|Do the facilities and operations conform to the requirements of Chinese GMP|0|\n",
    "|证明事项Certificate Item|0|\n",
    "|证明当局名称|1|\n",
    "|Name of Certifying Authority|2|\n",
    "|证明当局地址|54|\n",
    "|Address of Certifying Authority|55|\n",
    "|证明当局电话Telephone number of Certifying Authority|77|\n",
    "|证明当局传真Fax of Certifying Authority|78|\n",
    "|证明出具时间|0|\n",
    "|Certificate IssueDate|1|\n",
    "|证明有效期至|0|\n",
    "|This certificate remain valid until|0|\n",
    "|状态|16|\n",
    "|Status of Certificate|157|\n",
    "|有关说明|10000|"
   ]
  },
  {
   "cell_type": "markdown",
   "id": "779a0aa2362629bc",
   "metadata": {},
   "source": [
    "# 22"
   ]
  },
  {
   "cell_type": "markdown",
   "id": "7a9c40b52c3e1d99",
   "metadata": {},
   "source": [
    "|col_name|empty_num|\n",
    "|--------|---------|\n",
    "|注册证号备注|5821|\n",
    "|品种名称|0|\n",
    "|注册证号|0|\n",
    "|企业名称|41|\n",
    "|产品来源|0|\n",
    "|批准日期|3|\n",
    "|规格|22|"
   ]
  },
  {
   "cell_type": "markdown",
   "id": "9e1d3b631eff7fb3",
   "metadata": {},
   "source": [
    "# 23"
   ]
  },
  {
   "cell_type": "markdown",
   "id": "1202dca2e01706b8",
   "metadata": {},
   "source": [
    "|col_name|empty_num|\n",
    "|--------|---------|\n",
    "|证书编号|0|\n",
    "|医疗机构名称|0|\n",
    "|地址|0|\n",
    "|认定专业|0|\n",
    "|认证日期|0|\n",
    "|有效期截止日|0|\n",
    "|证书有效性|0|\n",
    "|省市|0|"
   ]
  },
  {
   "cell_type": "markdown",
   "id": "597ebb34ea2f51b7",
   "metadata": {},
   "source": [
    "# 24"
   ]
  },
  {
   "cell_type": "markdown",
   "id": "852ddb5f27b18d3",
   "metadata": {},
   "source": [
    "|col_name|empty_num|\n",
    "|--------|---------|\n",
    "|姓名|0|\n",
    "|注册证编号|0|\n",
    "|执业地区|0|\n",
    "|执业类别|5775|\n",
    "|执业范围|0|\n",
    "|执业单位|0|\n",
    "|有效期|0|\n",
    "|批次号|0|"
   ]
  },
  {
   "cell_type": "markdown",
   "id": "2da10a0604279143",
   "metadata": {},
   "source": [
    "# 25"
   ]
  },
  {
   "cell_type": "markdown",
   "id": "f6012295b5b8cb78",
   "metadata": {},
   "source": [
    "|col_name|empty_num|\n",
    "|--------|---------|\n",
    "|生产企业名称|0|\n",
    "|产品名称|0|\n",
    "|规格|2381|\n",
    "|批号|0|\n",
    "|签发量|2275|\n",
    "|有效期至|507|\n",
    "|收检编号|0|\n",
    "|证书编号|0|\n",
    "|报告编号|8091|\n",
    "|签发日期|98|\n",
    "|签发结论|787|\n",
    "|批签发机构|0|"
   ]
  }
 ],
 "metadata": {
  "kernelspec": {
   "display_name": "Python 3 (ipykernel)",
   "language": "python",
   "name": "python3"
  },
  "language_info": {
   "codemirror_mode": {
    "name": "ipython",
    "version": 3
   },
   "file_extension": ".py",
   "mimetype": "text/x-python",
   "name": "python",
   "nbconvert_exporter": "python",
   "pygments_lexer": "ipython3",
   "version": "3.13.0"
  }
 },
 "nbformat": 4,
 "nbformat_minor": 5
}
